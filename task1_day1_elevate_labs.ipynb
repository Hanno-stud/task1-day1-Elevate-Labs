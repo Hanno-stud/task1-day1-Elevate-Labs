{
  "nbformat": 4,
  "nbformat_minor": 0,
  "metadata": {
    "colab": {
      "provenance": []
    },
    "kernelspec": {
      "name": "python3",
      "display_name": "Python 3"
    },
    "language_info": {
      "name": "python"
    }
  },
  "cells": [
    {
      "cell_type": "code",
      "execution_count": 54,
      "metadata": {
        "colab": {
          "base_uri": "https://localhost:8080/"
        },
        "id": "oJNhmh3Xlq9s",
        "outputId": "c18552dd-5ae5-484a-b262-918e451dc934"
      },
      "outputs": [
        {
          "output_type": "stream",
          "name": "stdout",
          "text": [
            "\n",
            "--- Dataset Head ---\n",
            "   PassengerId  Survived  Pclass  \\\n",
            "0            1         0       3   \n",
            "1            2         1       1   \n",
            "2            3         1       3   \n",
            "3            4         1       1   \n",
            "4            5         0       3   \n",
            "\n",
            "                                                Name     Sex   Age  SibSp  \\\n",
            "0                            Braund, Mr. Owen Harris    male  22.0      1   \n",
            "1  Cumings, Mrs. John Bradley (Florence Briggs Th...  female  38.0      1   \n",
            "2                             Heikkinen, Miss. Laina  female  26.0      0   \n",
            "3       Futrelle, Mrs. Jacques Heath (Lily May Peel)  female  35.0      1   \n",
            "4                           Allen, Mr. William Henry    male  35.0      0   \n",
            "\n",
            "   Parch            Ticket     Fare Cabin Embarked  \n",
            "0      0         A/5 21171   7.2500   NaN        S  \n",
            "1      0          PC 17599  71.2833   C85        C  \n",
            "2      0  STON/O2. 3101282   7.9250   NaN        S  \n",
            "3      0            113803  53.1000  C123        S  \n",
            "4      0            373450   8.0500   NaN        S  \n",
            "\n",
            "\n",
            "--- Dataset Info ---\n",
            "<class 'pandas.core.frame.DataFrame'>\n",
            "RangeIndex: 891 entries, 0 to 890\n",
            "Data columns (total 12 columns):\n",
            " #   Column       Non-Null Count  Dtype  \n",
            "---  ------       --------------  -----  \n",
            " 0   PassengerId  891 non-null    int64  \n",
            " 1   Survived     891 non-null    int64  \n",
            " 2   Pclass       891 non-null    int64  \n",
            " 3   Name         891 non-null    object \n",
            " 4   Sex          891 non-null    object \n",
            " 5   Age          714 non-null    float64\n",
            " 6   SibSp        891 non-null    int64  \n",
            " 7   Parch        891 non-null    int64  \n",
            " 8   Ticket       891 non-null    object \n",
            " 9   Fare         891 non-null    float64\n",
            " 10  Cabin        204 non-null    object \n",
            " 11  Embarked     889 non-null    object \n",
            "dtypes: float64(2), int64(5), object(5)\n",
            "memory usage: 83.7+ KB\n",
            "None\n",
            "\n",
            "\n",
            "--- Null Values in Dataset ---\n",
            "PassengerId      0\n",
            "Survived         0\n",
            "Pclass           0\n",
            "Name             0\n",
            "Sex              0\n",
            "Age            177\n",
            "SibSp            0\n",
            "Parch            0\n",
            "Ticket           0\n",
            "Fare             0\n",
            "Cabin          687\n",
            "Embarked         2\n",
            "dtype: int64\n"
          ]
        }
      ],
      "source": [
        "\"\"\" Task 1: Data Cleaning & Preprocessing (Titanic Dataset)\n",
        "Step 1: Import the Dataset and Explore Basic Info \"\"\"\n",
        "# Step 1: Importing Libraries and Dataset\n",
        "import pandas as pd\n",
        "import numpy as np\n",
        "import seaborn as sns\n",
        "import matplotlib.pyplot as plt\n",
        "# Load the Titanic dataset (ensure 'titanic.csv' is in the same folder)\n",
        "df = pd.read_csv('Titanic-Dataset.csv')\n",
        "\n",
        "\n",
        "df_initial = df.copy()  # copy of original dataset\n",
        "df_copy2 = df.copy()  # copy of original dataset\n",
        "\n",
        "\n",
        "# Basic Exploration\n",
        "print(\"\\n--- Dataset Head ---\")\n",
        "print(df.head())\n",
        "\n",
        "print(\"\\n\\n--- Dataset Info ---\")\n",
        "print(df.info())\n",
        "\n",
        "print(\"\\n\\n--- Null Values in Dataset ---\")\n",
        "print(df.isnull().sum())\n"
      ]
    },
    {
      "cell_type": "code",
      "source": [],
      "metadata": {
        "id": "TUWWMPVXpzey"
      },
      "execution_count": null,
      "outputs": []
    },
    {
      "cell_type": "code",
      "source": [
        "\"\"\" Step 2: Handle Missing Values using Mean/Median/Imputation \"\"\"\n",
        "\n",
        "# Checking columns with null values\n",
        "print(\"\\n--- Missing Values Before Handling ---\")\n",
        "print(df.isnull().sum())\n",
        "\n",
        "# Display Mean Values\n",
        "age_mean = df['Age'].mean()\n",
        "fare_mean = df['Fare'].mean()\n",
        "\n",
        "print(f\"\\n\\n--- Mean of Age: {age_mean:.2f} ---\")\n",
        "print(f\"--- Mean of Fare: {fare_mean:.2f} ---\")\n",
        "\n",
        "# Fill 'Age' missing values with the median\n",
        "# unsupported method syntax for a dataframe  = df['Age'].fillna(df['Age'].median(), inplace=True)\n",
        "df.fillna({'Age': df['Age'].median()}, inplace=True)\n",
        "\n",
        "\n",
        "# Fill 'Embarked' missing values with mode (most frequent)\n",
        "# unsupported method syntax for a dataframe  = df['Embarked'].fillna(df['Embarked'].mode()[0], inplace=True)\n",
        "df.fillna({'Embarked': df['Embarked'].mode()[0]}, inplace=True)\n",
        "\n",
        "\n",
        "# Drop 'Cabin' due to too many missing values\n",
        "df.drop('Cabin', axis=1, inplace=True)  # ---- column 'Cabin' dropped here -----\n",
        "\n",
        "print(\"\\n\\n--- Missing Values After Handling ---\")\n",
        "print(df.isnull().sum())\n"
      ],
      "metadata": {
        "colab": {
          "base_uri": "https://localhost:8080/"
        },
        "id": "hhhA6BMTp0Cv",
        "outputId": "8efbd810-fafe-4b38-f1f3-685e4733e7d3"
      },
      "execution_count": 55,
      "outputs": [
        {
          "output_type": "stream",
          "name": "stdout",
          "text": [
            "\n",
            "--- Missing Values Before Handling ---\n",
            "PassengerId      0\n",
            "Survived         0\n",
            "Pclass           0\n",
            "Name             0\n",
            "Sex              0\n",
            "Age            177\n",
            "SibSp            0\n",
            "Parch            0\n",
            "Ticket           0\n",
            "Fare             0\n",
            "Cabin          687\n",
            "Embarked         2\n",
            "dtype: int64\n",
            "\n",
            "\n",
            "--- Mean of Age: 29.70 ---\n",
            "--- Mean of Fare: 32.20 ---\n",
            "\n",
            "\n",
            "--- Missing Values After Handling ---\n",
            "PassengerId    0\n",
            "Survived       0\n",
            "Pclass         0\n",
            "Name           0\n",
            "Sex            0\n",
            "Age            0\n",
            "SibSp          0\n",
            "Parch          0\n",
            "Ticket         0\n",
            "Fare           0\n",
            "Embarked       0\n",
            "dtype: int64\n"
          ]
        }
      ]
    },
    {
      "cell_type": "code",
      "source": [],
      "metadata": {
        "id": "L2buP-nAp4CM"
      },
      "execution_count": null,
      "outputs": []
    },
    {
      "cell_type": "code",
      "source": [
        "\"\"\" Step 3: Convert Categorical Features into Numerical using Encoding \"\"\"\n",
        "\n",
        "# Label Encoding for 'Sex' column\n",
        "df['Sex'] = df['Sex'].map({'male': 0, 'female': 1})\n",
        "\n",
        "# One-Hot Encoding for 'Embarked' column\n",
        "df = pd.get_dummies(df, columns=['Embarked'], drop_first=True)\n",
        "\n",
        "print(\"\\n--- Dataset After Encoding ---\\n\")\n",
        "print(df.head())"
      ],
      "metadata": {
        "colab": {
          "base_uri": "https://localhost:8080/"
        },
        "id": "bQzVhPoZp4Hg",
        "outputId": "25027c36-7331-4992-e0d2-1ef6263eb688"
      },
      "execution_count": 56,
      "outputs": [
        {
          "output_type": "stream",
          "name": "stdout",
          "text": [
            "\n",
            "--- Dataset After Encoding ---\n",
            "\n",
            "   PassengerId  Survived  Pclass  \\\n",
            "0            1         0       3   \n",
            "1            2         1       1   \n",
            "2            3         1       3   \n",
            "3            4         1       1   \n",
            "4            5         0       3   \n",
            "\n",
            "                                                Name  Sex   Age  SibSp  Parch  \\\n",
            "0                            Braund, Mr. Owen Harris    0  22.0      1      0   \n",
            "1  Cumings, Mrs. John Bradley (Florence Briggs Th...    1  38.0      1      0   \n",
            "2                             Heikkinen, Miss. Laina    1  26.0      0      0   \n",
            "3       Futrelle, Mrs. Jacques Heath (Lily May Peel)    1  35.0      1      0   \n",
            "4                           Allen, Mr. William Henry    0  35.0      0      0   \n",
            "\n",
            "             Ticket     Fare  Embarked_Q  Embarked_S  \n",
            "0         A/5 21171   7.2500       False        True  \n",
            "1          PC 17599  71.2833       False       False  \n",
            "2  STON/O2. 3101282   7.9250       False        True  \n",
            "3            113803  53.1000       False        True  \n",
            "4            373450   8.0500       False        True  \n"
          ]
        }
      ]
    },
    {
      "cell_type": "code",
      "source": [],
      "metadata": {
        "id": "VHmqQExOqYcY"
      },
      "execution_count": null,
      "outputs": []
    },
    {
      "cell_type": "code",
      "source": [
        "\"\"\" Step 4: Normalize/Standardize Numerical Features \"\"\"\n",
        "\n",
        "from sklearn.preprocessing import StandardScaler\n",
        "\n",
        "# Select numerical columns to scale\n",
        "numerical_features = ['Age', 'Fare']\n",
        "\n",
        "scaler = StandardScaler()\n",
        "df[numerical_features] = scaler.fit_transform(df[numerical_features])\n",
        "\n",
        "print(\"\\n--- Dataset After Normalization/Standardization ---\\n\")\n",
        "print(df.head())"
      ],
      "metadata": {
        "colab": {
          "base_uri": "https://localhost:8080/"
        },
        "id": "qcKpMFWRqYhd",
        "outputId": "2831ebcb-4e07-4a91-d9d0-894ca509a832"
      },
      "execution_count": 57,
      "outputs": [
        {
          "output_type": "stream",
          "name": "stdout",
          "text": [
            "\n",
            "--- Dataset After Normalization/Standardization ---\n",
            "\n",
            "   PassengerId  Survived  Pclass  \\\n",
            "0            1         0       3   \n",
            "1            2         1       1   \n",
            "2            3         1       3   \n",
            "3            4         1       1   \n",
            "4            5         0       3   \n",
            "\n",
            "                                                Name  Sex       Age  SibSp  \\\n",
            "0                            Braund, Mr. Owen Harris    0 -0.565736      1   \n",
            "1  Cumings, Mrs. John Bradley (Florence Briggs Th...    1  0.663861      1   \n",
            "2                             Heikkinen, Miss. Laina    1 -0.258337      0   \n",
            "3       Futrelle, Mrs. Jacques Heath (Lily May Peel)    1  0.433312      1   \n",
            "4                           Allen, Mr. William Henry    0  0.433312      0   \n",
            "\n",
            "   Parch            Ticket      Fare  Embarked_Q  Embarked_S  \n",
            "0      0         A/5 21171 -0.502445       False        True  \n",
            "1      0          PC 17599  0.786845       False       False  \n",
            "2      0  STON/O2. 3101282 -0.488854       False        True  \n",
            "3      0            113803  0.420730       False        True  \n",
            "4      0            373450 -0.486337       False        True  \n"
          ]
        }
      ]
    },
    {
      "cell_type": "code",
      "source": [],
      "metadata": {
        "id": "2AcwX1O8qkO3"
      },
      "execution_count": null,
      "outputs": []
    },
    {
      "cell_type": "code",
      "source": [
        "\"\"\" Step 5: Visualize Outliers using Boxplots and Remove Them \"\"\"\n",
        "\n",
        "# Visualizing Outliers\n",
        "plt.figure(figsize=(12, 6))\n",
        "plt.subplot(1, 2, 1)\n",
        "sns.boxplot(y=df['Age'])\n",
        "plt.title('Boxplot of Age')\n",
        "\n",
        "plt.subplot(1, 2, 2)\n",
        "sns.boxplot(y=df['Fare'])\n",
        "plt.title('Boxplot of Fare')\n",
        "print(\"\\n---- Visualize Outliers using BOXPLOTS ----\\n\")\n",
        "plt.show()\n",
        "\n",
        "# Outlier Removal using IQR method\n",
        "def remove_outliers(column):\n",
        "    Q1 = df[column].quantile(0.25)\n",
        "    Q3 = df[column].quantile(0.75)\n",
        "    IQR = Q3 - Q1\n",
        "    lower_bound = Q1 - 1.5 * IQR\n",
        "    upper_bound = Q3 + 1.5 * IQR\n",
        "    return df[(df[column] >= lower_bound) & (df[column] <= upper_bound)]\n",
        "\n",
        "# Remove outliers from 'Fare'\n",
        "df = remove_outliers('Fare')\n",
        "\n",
        "print(\"\\n\\n--- Dataset Shape => 'AFTER OUTLIER REMOVAL' ---\\n\")\n",
        "print(df.shape)\n"
      ],
      "metadata": {
        "colab": {
          "base_uri": "https://localhost:8080/",
          "height": 665
        },
        "id": "Q1GBihgkqkSR",
        "outputId": "4095d96e-d947-4b49-e9c0-3410df30b954"
      },
      "execution_count": 58,
      "outputs": [
        {
          "output_type": "stream",
          "name": "stdout",
          "text": [
            "\n",
            "---- Visualize Outliers using BOXPLOTS ----\n",
            "\n"
          ]
        },
        {
          "output_type": "display_data",
          "data": {
            "text/plain": [
              "<Figure size 1200x600 with 2 Axes>"
            ],
            "image/png": "[encoded data removed]"
          },
          "metadata": {}
        },
        {
          "output_type": "stream",
          "name": "stdout",
          "text": [
            "\n",
            "\n",
            "--- Dataset Shape => 'AFTER OUTLIER REMOVAL' ---\n",
            "\n",
            "(775, 12)\n"
          ]
        }
      ]
    },
    {
      "cell_type": "markdown",
      "source": [],
      "metadata": {
        "id": "r53oYTF07tEX"
      }
    },
    {
      "cell_type": "code",
      "source": [
        "# Skills to learn: Data cleaning, handling nulls, encoding, feature scaling.\n",
        "\n",
        "# 1. Data cleaning\n",
        "# Display initial dataset shape and nulls\n",
        "print(\"\\n--- Initial Dataset Shape ---\")\n",
        "print(df_copy2.shape)\n",
        "\n",
        "print(\"\\n\\n--- Null Values in Dataset Before Cleaning ---\")\n",
        "print(df_copy2.isnull().sum())\n",
        "\n",
        "# Drop 'Cabin' column due to excessive missing values\n",
        "df_cleaned = df_copy2.drop('Cabin', axis=1)\n",
        "\n",
        "print(\"\\n\\n--- Dataset Columns After Dropping 'Cabin' ---\")\n",
        "print(df_cleaned.columns)\n"
      ],
      "metadata": {
        "colab": {
          "base_uri": "https://localhost:8080/"
        },
        "id": "QV1ab3fFq8sr",
        "outputId": "7a16e7d3-1f81-4ee2-98b7-6946eef59df3"
      },
      "execution_count": 59,
      "outputs": [
        {
          "output_type": "stream",
          "name": "stdout",
          "text": [
            "\n",
            "--- Initial Dataset Shape ---\n",
            "(891, 12)\n",
            "\n",
            "\n",
            "--- Null Values in Dataset Before Cleaning ---\n",
            "PassengerId      0\n",
            "Survived         0\n",
            "Pclass           0\n",
            "Name             0\n",
            "Sex              0\n",
            "Age            177\n",
            "SibSp            0\n",
            "Parch            0\n",
            "Ticket           0\n",
            "Fare             0\n",
            "Cabin          687\n",
            "Embarked         2\n",
            "dtype: int64\n",
            "\n",
            "\n",
            "--- Dataset Columns After Dropping 'Cabin' ---\n",
            "Index(['PassengerId', 'Survived', 'Pclass', 'Name', 'Sex', 'Age', 'SibSp',\n",
            "       'Parch', 'Ticket', 'Fare', 'Embarked'],\n",
            "      dtype='object')\n"
          ]
        }
      ]
    },
    {
      "cell_type": "code",
      "source": [],
      "metadata": {
        "id": "aN-pjiaNxyQl"
      },
      "execution_count": null,
      "outputs": []
    },
    {
      "cell_type": "code",
      "source": [
        "# 2. Handling Missing Values\n",
        "print(\"\\n--- Null Values Before Handling ---\")\n",
        "print(df_cleaned.isnull().sum())\n",
        "\n",
        "# Fill 'Age' with median for 'df_cleaned'\n",
        "# unsupported method syntax for a dataframe  =  df_cleaned['Age'].fillna(df_cleaned['Age'].median(), inplace=True)\n",
        "df.fillna({'Age': df_cleaned['Age'].median()}, inplace=True)\n",
        "\n",
        "# Fill 'Embarked' with mode for 'df_cleaned'\n",
        "# unsupported method syntax for a dataframe  =  df_cleaned['Embarked'].fillna(df_cleaned['Embarked'].mode()[0], inplace=True)\n",
        "df.fillna({'Embarked': df_cleaned['Embarked'].mode()[0]}, inplace=True)\n",
        "\n",
        "print(\"\\n\\n--- Null Values After Handling ---\")\n",
        "print(df_cleaned.isnull().sum())"
      ],
      "metadata": {
        "colab": {
          "base_uri": "https://localhost:8080/"
        },
        "id": "zIB0Tv45xyUH",
        "outputId": "e4398fe5-1703-4b74-e0ca-083d6befcb14"
      },
      "execution_count": 60,
      "outputs": [
        {
          "output_type": "stream",
          "name": "stdout",
          "text": [
            "\n",
            "--- Null Values Before Handling ---\n",
            "PassengerId      0\n",
            "Survived         0\n",
            "Pclass           0\n",
            "Name             0\n",
            "Sex              0\n",
            "Age            177\n",
            "SibSp            0\n",
            "Parch            0\n",
            "Ticket           0\n",
            "Fare             0\n",
            "Embarked         2\n",
            "dtype: int64\n",
            "\n",
            "\n",
            "--- Null Values After Handling ---\n",
            "PassengerId      0\n",
            "Survived         0\n",
            "Pclass           0\n",
            "Name             0\n",
            "Sex              0\n",
            "Age            177\n",
            "SibSp            0\n",
            "Parch            0\n",
            "Ticket           0\n",
            "Fare             0\n",
            "Embarked         2\n",
            "dtype: int64\n"
          ]
        }
      ]
    },
    {
      "cell_type": "code",
      "source": [],
      "metadata": {
        "id": "_9p_Hz-7xzb_"
      },
      "execution_count": null,
      "outputs": []
    },
    {
      "cell_type": "code",
      "source": [
        "\"\"\"\n",
        "Encoding (Categorical to Numerical)\n",
        "Step-wise:\n",
        "\n",
        "Encode Sex using label encoding.\n",
        "\n",
        "Encode Embarked using one-hot encoding.\n",
        "\"\"\"\n",
        "# Label Encoding for 'Sex'\n",
        "df_cleaned['Sex'] = df_cleaned['Sex'].map({'male': 0, 'female': 1})\n",
        "\n",
        "# One-Hot Encoding for 'Embarked'\n",
        "df_encoded = pd.get_dummies(df_cleaned, columns=['Embarked'], drop_first=True)\n",
        "\n",
        "print(\"\\n--- Encoded Dataset Columns ---\")\n",
        "print(df_encoded.columns)\n",
        "\n",
        "print(\"\\n--- First 5 Rows of Encoded Dataset ---\")\n",
        "print(df_encoded.head())\n"
      ],
      "metadata": {
        "colab": {
          "base_uri": "https://localhost:8080/"
        },
        "id": "B1YuhyS_xzfq",
        "outputId": "22753981-5a36-4e42-ddc8-ec1cd726889f"
      },
      "execution_count": 61,
      "outputs": [
        {
          "output_type": "stream",
          "name": "stdout",
          "text": [
            "\n",
            "--- Encoded Dataset Columns ---\n",
            "Index(['PassengerId', 'Survived', 'Pclass', 'Name', 'Sex', 'Age', 'SibSp',\n",
            "       'Parch', 'Ticket', 'Fare', 'Embarked_Q', 'Embarked_S'],\n",
            "      dtype='object')\n",
            "\n",
            "--- First 5 Rows of Encoded Dataset ---\n",
            "   PassengerId  Survived  Pclass  \\\n",
            "0            1         0       3   \n",
            "1            2         1       1   \n",
            "2            3         1       3   \n",
            "3            4         1       1   \n",
            "4            5         0       3   \n",
            "\n",
            "                                                Name  Sex   Age  SibSp  Parch  \\\n",
            "0                            Braund, Mr. Owen Harris    0  22.0      1      0   \n",
            "1  Cumings, Mrs. John Bradley (Florence Briggs Th...    1  38.0      1      0   \n",
            "2                             Heikkinen, Miss. Laina    1  26.0      0      0   \n",
            "3       Futrelle, Mrs. Jacques Heath (Lily May Peel)    1  35.0      1      0   \n",
            "4                           Allen, Mr. William Henry    0  35.0      0      0   \n",
            "\n",
            "             Ticket     Fare  Embarked_Q  Embarked_S  \n",
            "0         A/5 21171   7.2500       False        True  \n",
            "1          PC 17599  71.2833       False       False  \n",
            "2  STON/O2. 3101282   7.9250       False        True  \n",
            "3            113803  53.1000       False        True  \n",
            "4            373450   8.0500       False        True  \n"
          ]
        }
      ]
    },
    {
      "cell_type": "code",
      "source": [],
      "metadata": {
        "id": "S4RveG73x-P1"
      },
      "execution_count": null,
      "outputs": []
    },
    {
      "cell_type": "code",
      "source": [
        "# Feature Scaling (Standardization)\n",
        "from sklearn.preprocessing import StandardScaler\n",
        "\n",
        "# Standardize numerical features\n",
        "scaler = StandardScaler()\n",
        "df_encoded[['Age', 'Fare']] = scaler.fit_transform(df_encoded[['Age', 'Fare']])\n",
        "\n",
        "print(\"\\n--- First 5 Rows After Feature Scaling ---\")\n",
        "print(df_encoded[['Age', 'Fare']].head())\n"
      ],
      "metadata": {
        "colab": {
          "base_uri": "https://localhost:8080/"
        },
        "id": "zbDbx0dKx-TZ",
        "outputId": "711bfd3c-dc04-4d61-93c5-1345bdf29cb0"
      },
      "execution_count": 62,
      "outputs": [
        {
          "output_type": "stream",
          "name": "stdout",
          "text": [
            "\n",
            "--- First 5 Rows After Feature Scaling ---\n",
            "        Age      Fare\n",
            "0 -0.530377 -0.502445\n",
            "1  0.571831  0.786845\n",
            "2 -0.254825 -0.488854\n",
            "3  0.365167  0.420730\n",
            "4  0.365167 -0.486337\n"
          ]
        }
      ]
    },
    {
      "cell_type": "code",
      "source": [],
      "metadata": {
        "id": "BzUKWcafp0aA"
      },
      "execution_count": null,
      "outputs": []
    }
  ]
}